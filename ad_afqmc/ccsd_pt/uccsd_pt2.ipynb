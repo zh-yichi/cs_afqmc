{
 "cells": [
  {
   "cell_type": "code",
   "execution_count": 28,
   "id": "655561f0",
   "metadata": {},
   "outputs": [
    {
     "name": "stdout",
     "output_type": "stream",
     "text": [
      "System: uname_result(system='Linux', node='yichi-thinkpad', release='4.4.0-26100-Microsoft', version='#5074-Microsoft Fri Jan 01 08:00:00 PST 2016', machine='x86_64')  Threads 12\n",
      "Python 3.10.16 | packaged by conda-forge | (main, Dec  5 2024, 14:16:10) [GCC 13.3.0]\n",
      "numpy 1.24.3  scipy 1.14.1  h5py 3.12.1\n",
      "Date: Thu Oct 23 16:25:28 2025\n",
      "PySCF version 2.8.0\n",
      "PySCF path  /home/yichi/research/software/lno_pyscf\n",
      "GIT HEAD (branch master) ef75f4190e4de208685670651dc6c467f72b6794\n",
      "\n",
      "[ENV] PYSCF_EXT_PATH /home/yichi/research/software/pyscf\n",
      "[CONFIG] conf_file None\n",
      "[INPUT] verbose = 4\n",
      "[INPUT] num. atoms = 2\n",
      "[INPUT] num. electrons = 2\n",
      "[INPUT] charge = 0\n",
      "[INPUT] spin (= nelec alpha-beta = 2S) = 0\n",
      "[INPUT] symmetry False subgroup None\n",
      "[INPUT] Mole.unit = bohr\n",
      "[INPUT] Symbol           X                Y                Z      unit          X                Y                Z       unit  Magmom\n",
      "[INPUT]  1 H      0.000000000000   0.000000000000   0.000000000000 AA    0.000000000000   0.000000000000   0.000000000000 Bohr   0.0\n",
      "[INPUT]  2 H      1.058354421840   0.000000000000   0.000000000000 AA    2.000000000000   0.000000000000   0.000000000000 Bohr   0.0\n",
      "\n",
      "nuclear repulsion = 0.5\n",
      "number of shells = 4\n",
      "number of NR pGTOs = 8\n",
      "number of NR cGTOs = 4\n",
      "basis = 6-31g\n",
      "ecp = {}\n",
      "CPU time:        37.55\n",
      "\n",
      "\n",
      "******** <class 'pyscf.scf.uhf.UHF'> ********\n",
      "method = UHF\n",
      "initial guess = minao\n",
      "damping factor = 0\n",
      "level_shift factor = 0\n",
      "DIIS = <class 'pyscf.scf.diis.CDIIS'>\n",
      "diis_start_cycle = 1\n",
      "diis_space = 8\n",
      "diis_damp = 0\n",
      "SCF conv_tol = 1e-09\n",
      "SCF conv_tol_grad = None\n",
      "SCF max_cycles = 50\n",
      "direct_scf = True\n",
      "direct_scf_tol = 1e-13\n",
      "chkfile to save SCF result = /tmp/tmplyc6u3gd\n",
      "max_memory 4000 MB (current use 436 MB)\n",
      "number electrons alpha = 1  beta = 1\n",
      "Set gradient conv threshold to 3.16228e-05\n"
     ]
    },
    {
     "name": "stdout",
     "output_type": "stream",
     "text": [
      "init E= -0.735581811516521\n",
      "  alpha nocc = 1  HOMO = -0.428875905563132  LUMO = 0.0906074258757933\n",
      "  beta  nocc = 1  HOMO = -0.422782006847908  LUMO = 0.0917604853842934\n",
      "cycle= 1 E= -1.08366735877223  delta_E= -0.348  |g|= 0.0132  |ddm|= 0.44\n",
      "  alpha nocc = 1  HOMO = -0.516473146105886  LUMO = 0.150366241490128\n",
      "  beta  nocc = 1  HOMO = -0.516748549197009  LUMO = 0.15033165994403\n",
      "cycle= 2 E= -1.08380719741209  delta_E= -0.00014  |g|= 0.00207  |ddm|= 0.0129\n",
      "  alpha nocc = 1  HOMO = -0.514626233136186  LUMO = 0.152275422459565\n",
      "  beta  nocc = 1  HOMO = -0.514705981622363  LUMO = 0.152265686992383\n",
      "cycle= 3 E= -1.08381071641424  delta_E= -3.52e-06  |g|= 7.74e-05  |ddm|= 0.00239\n",
      "  alpha nocc = 1  HOMO = -0.514661268399487  LUMO = 0.152269818323371\n",
      "  beta  nocc = 1  HOMO = -0.5146618299203  LUMO = 0.152269730439392\n",
      "cycle= 4 E= -1.0838107234146  delta_E= -7e-09  |g|= 1.18e-07  |ddm|= 0.000128\n",
      "  alpha nocc = 1  HOMO = -0.514663233143063  LUMO = 0.152269737626045\n",
      "  beta  nocc = 1  HOMO = -0.514663357208319  LUMO = 0.152269718208491\n",
      "cycle= 5 E= -1.08381072341461  delta_E= -1.09e-14  |g|= 2.61e-08  |ddm|= 1.07e-07\n",
      "  alpha nocc = 1  HOMO = -0.514663785947074  LUMO = 0.152269718583205\n",
      "  beta  nocc = 1  HOMO = -0.514663786863013  LUMO = 0.152269718471068\n",
      "Extra cycle  E= -1.08381072341461  delta_E= -6.66e-16  |g|= 4.14e-09  |ddm|= 2.55e-08\n",
      "converged SCF energy = -1.08381072341461  <S^2> = -8.8817842e-16  2S+1 = 1\n",
      "\n",
      "******** <class 'pyscf.cc.uccsd.UCCSD'> ********\n",
      "CC2 = 0\n",
      "CCSD nocc = (1, 1), nmo = (4, 4)\n",
      "max_cycle = 50\n",
      "direct = 0\n",
      "conv_tol = 1e-07\n",
      "conv_tol_normt = 1e-06\n",
      "diis_space = 6\n",
      "diis_start_cycle = 0\n",
      "diis_start_energy_diff = 1e+09\n",
      "max_memory 4000 MB (current use 439 MB)\n",
      "Init t2, MP2 energy = -0.0211988212258329\n",
      "Init E_corr(UCCSD) = -0.0211988212258329\n",
      "cycle = 1  E_corr(UCCSD) = -0.0285642404946678  dE = -0.00736541927  norm(t1,t2) = 0.0446989\n",
      "cycle = 2  E_corr(UCCSD) = -0.0315759567702353  dE = -0.00301171628  norm(t1,t2) = 0.0204209\n",
      "cycle = 3  E_corr(UCCSD) = -0.0340234477519239  dE = -0.00244749098  norm(t1,t2) = 0.00940295\n",
      "cycle = 4  E_corr(UCCSD) = -0.0340011397640943  dE = 2.23079878e-05  norm(t1,t2) = 0.00020905\n",
      "cycle = 5  E_corr(UCCSD) = -0.0340063347323037  dE = -5.19496821e-06  norm(t1,t2) = 2.2446e-05\n",
      "cycle = 6  E_corr(UCCSD) = -0.0340055001761395  dE = 8.34556164e-07  norm(t1,t2) = 3.0899e-06\n",
      "cycle = 7  E_corr(UCCSD) = -0.0340055971568686  dE = -9.69807291e-08  norm(t1,t2) = 3.17329e-07\n",
      "UCCSD converged\n",
      "E(UCCSD) = -1.117816320571478  E_corr = -0.03400559715686858\n"
     ]
    },
    {
     "data": {
      "text/plain": [
       "-0.03400559715686858"
      ]
     },
     "execution_count": 28,
     "metadata": {},
     "output_type": "execute_result"
    }
   ],
   "source": [
    "from pyscf import gto, scf, cc\n",
    "import numpy as np\n",
    "from jax import numpy as jnp\n",
    "from jax import vmap, jvp, jit\n",
    "import jax\n",
    "from functools import partial\n",
    "\n",
    "a = 2 # 2aB\n",
    "nH = 2\n",
    "atoms = \"\"\n",
    "for i in range(nH):\n",
    "    atoms += f\"H {i*a:.5f} 0.00000 0.00000 \\n\"\n",
    "\n",
    "mol = gto.M(atom=atoms, basis=\"6-31g\", unit='bohr', spin=0, verbose=4)\n",
    "mol.build()\n",
    "\n",
    "mf = scf.UHF(mol)\n",
    "mf.kernel()\n",
    "\n",
    "mycc = cc.CCSD(mf)\n",
    "mycc.kernel()[0]"
   ]
  },
  {
   "cell_type": "code",
   "execution_count": 12,
   "id": "3f3dd50d",
   "metadata": {},
   "outputs": [],
   "source": [
    "def thouless_trans(t1):\n",
    "    ''' thouless transformation |psi'> = exp(t1)|psi>\n",
    "        gives the transformed mo_occrep in the \n",
    "        original mo basis <psi_p|psi'_i>\n",
    "        t = t_ia\n",
    "        t_ia = c_ik c.T_ka\n",
    "        c_ik = <psi_i|psi'_k>\n",
    "    '''\n",
    "    q, r = jnp.linalg.qr(t1,mode='complete')\n",
    "    u_ji = q\n",
    "    u_ai = r.T\n",
    "    u_occ = jnp.vstack((u_ji,u_ai))\n",
    "    mo_t, _ = jnp.linalg.qr(u_occ,mode='complete')\n",
    "    return mo_t"
   ]
  },
  {
   "cell_type": "code",
   "execution_count": 29,
   "id": "d459fadf",
   "metadata": {},
   "outputs": [
    {
     "name": "stdout",
     "output_type": "stream",
     "text": [
      "#\n",
      "# Preparing AFQMC calculation\n",
      "# If you import pyscf cc modules and use MPI for AFQMC in the same script, finalize MPI before calling the AFQMC driver.\n",
      "# Calculating Cholesky integrals\n",
      "# Finished calculating Cholesky integrals\n",
      "#\n",
      "# Size of the correlation space:\n",
      "# Number of electrons: (1, 1)\n",
      "# Number of basis functions: 4\n",
      "# Number of Cholesky vectors: 10\n",
      "#\n",
      "# Number of MPI ranks: 1\n",
      "#\n",
      "# norb: 4\n",
      "# nelec: (1, 1)\n",
      "#\n",
      "# n_eql: 4\n",
      "# n_prop_steps: 50\n",
      "# n_ene_blocks: 20\n",
      "# n_sr_blocks: 10\n",
      "# n_blocks: 10\n",
      "# n_walkers: 3\n",
      "# seed: 2\n",
      "# walker_type: rhf\n",
      "# trial: uhf\n",
      "# dt: 0.005\n",
      "# free_projection: False\n",
      "# use_gpu: False\n",
      "# n_exp_terms: 6\n",
      "# orbital_rotation: True\n",
      "# do_sr: True\n",
      "# symmetry: False\n",
      "# save_walkers: False\n",
      "# ene0: 0.0\n",
      "# n_batch: 1\n",
      "# LNO: False\n",
      "# orbE: 0\n",
      "# maxError: 0.001\n",
      "#\n"
     ]
    }
   ],
   "source": [
    "options = {'n_eql': 4,\n",
    "           'n_prop_steps': 50,\n",
    "            'n_ene_blocks': 20,\n",
    "            'n_sr_blocks': 10,\n",
    "            'n_blocks': 10,\n",
    "            'n_walkers': 3,\n",
    "            'seed': 2,\n",
    "            'walker_type': 'rhf',\n",
    "            'trial': 'uhf',\n",
    "            'dt':0.005,\n",
    "            'free_projection':False,\n",
    "            'ad_mode':None,\n",
    "            'use_gpu': False,\n",
    "            }\n",
    "\n",
    "from ad_afqmc import pyscf_interface\n",
    "from ad_afqmc.ccsd_pt import ccsd_pt, sample_ccsd_pt\n",
    "# t1 = 5 * mycc.t1\n",
    "# mycc.t1 = t1\n",
    "# ccsd_pt.prep_afqmc(mycc,chol_cut=1e-7)\n",
    "pyscf_interface.prep_afqmc(mycc,options,chol_cut=1e-6)\n",
    "\n",
    "from ad_afqmc import config, mpi_jax, wavefunctions\n",
    "import time\n",
    "from jax import random\n",
    "ham_data, ham, prop, trial, wave_data, sampler, observable, options, _ \\\n",
    "    = (mpi_jax._prep_afqmc(options))\n",
    "\n",
    "import h5py\n",
    "chol_file='FCIDUMP_chol'\n",
    "with h5py.File(chol_file, \"r\") as fh5:\n",
    "    [nelec, nmo, ms, nchol] = fh5[\"header\"]\n",
    "    h0 = jnp.array(fh5.get(\"energy_core\"))\n",
    "    h1 = jnp.array(fh5.get(\"hcore\")).reshape(nmo, nmo)\n",
    "    h1_mod = jnp.array(fh5.get(\"hcore_mod\")).reshape(nmo, nmo)\n",
    "    chol = jnp.array(fh5.get(\"chol\")).reshape(-1, nmo, nmo)\n"
   ]
  },
  {
   "cell_type": "code",
   "execution_count": 30,
   "id": "6e14f992",
   "metadata": {},
   "outputs": [],
   "source": [
    "ham_data['h1_mod'] = h1_mod\n",
    "mo_coeff = jnp.array(np.load('mo_coeff.npz')[\"mo_coeff\"])\n",
    "wave_data['mo_B'] = mo_coeff[1]\n",
    "\n",
    "t2aa = mycc.t2[0] # + 2 * np.einsum(\"ia,jb->ijab\", mycc.t1[0], mycc.t1[0])\n",
    "t2aa = (t2aa - t2aa.transpose(0, 1, 3, 2)) / 2\n",
    "t2aa = t2aa.transpose(0, 2, 1, 3)\n",
    "t2bb = mycc.t2[2] # + 2 * np.einsum(\"ia,jb->ijab\", mycc.t1[1], mycc.t1[1])\n",
    "t2bb = (t2bb - t2bb.transpose(0, 1, 3, 2)) / 2\n",
    "t2bb = t2bb.transpose(0, 2, 1, 3)\n",
    "t2ab = mycc.t2[1] # + np.einsum(\"ia,jb->ijab\", mycc.t1[0], mycc.t1[1])\n",
    "t2ab = t2ab.transpose(0, 2, 1, 3)\n",
    "t1a = np.array(mycc.t1[0])\n",
    "t1b = np.array(mycc.t1[1])\n",
    "\n",
    "mo_ta = thouless_trans(t1a)\n",
    "mo_tb = thouless_trans(t1b)\n",
    "noccA, noccB = trial.nelec[0], trial.nelec[1]\n",
    "wave_data['mo_ta'] = mo_ta[:,:noccA]\n",
    "wave_data['mo_tb'] = mo_tb[:,:noccB]\n",
    "mo_a_A = wave_data['mo_ta'] # @ wave_data['mo_coeff'][0]\n",
    "mo_b_B = wave_data['mo_tb'] # @ wave_data[\"mo_B\"].T @ wave_data['mo_coeff'][1]\n",
    "\n",
    "wave_data[\"rot_t1A\"] = mo_a_A[:noccA,:noccA].T @ t1a\n",
    "wave_data[\"rot_t2AA\"] = jnp.einsum('ik,jl,kalb->iajb',\n",
    "    mo_a_A[:noccA,:noccA].T,mo_a_A[:noccA,:noccA].T,t2aa)\n",
    "wave_data[\"rot_t1B\"] = mo_b_B[:noccB,:noccB].T @ t1b\n",
    "wave_data[\"rot_t2BB\"] = jnp.einsum('ik,jl,kalb->iajb',\n",
    "    mo_b_B[:noccB,:noccB].T,mo_b_B[:noccB,:noccB].T,t2bb)\n",
    "wave_data[\"rot_t2AB\"] = jnp.einsum('ik,jl,kalb->iajb',\n",
    "    mo_a_A[:noccA,:noccA].T,mo_b_B[:noccB,:noccB].T,t2ab)"
   ]
  },
  {
   "cell_type": "code",
   "execution_count": 31,
   "id": "305d0117",
   "metadata": {},
   "outputs": [
    {
     "name": "stdout",
     "output_type": "stream",
     "text": [
      "# Hostname: yichi-thinkpad\n",
      "# System Type: Linux\n",
      "# Machine Type: x86_64\n",
      "# Processor: x86_64\n",
      "init walker energy:  -1.0838107234146097\n",
      "mf enegry:  -1.083810723414609\n",
      "6.661338147750939e-16\n",
      "cc energy:  -1.1178163205714777\n",
      "-1.083790174018175\n"
     ]
    }
   ],
   "source": [
    "config.setup_jax()\n",
    "MPI = config.setup_comm()\n",
    "init = time.time()\n",
    "comm = MPI.COMM_WORLD\n",
    "size = comm.Get_size()\n",
    "rank = comm.Get_rank()\n",
    "seed = options[\"seed\"]\n",
    "neql = options[\"n_eql\"]\n",
    "\n",
    "trial_rdm1 = trial.get_rdm1(wave_data)\n",
    "if \"rdm1\" not in wave_data:\n",
    "    wave_data[\"rdm1\"] = trial_rdm1\n",
    "\n",
    "\n",
    "ham_data = ham.build_measurement_intermediates(ham_data, trial, wave_data)\n",
    "ham_data = ham.build_propagation_intermediates(\n",
    "    ham_data, prop, trial, wave_data\n",
    ")\n",
    "prop_data = prop.init_prop_data(trial, wave_data, ham_data, None)\n",
    "\n",
    "prop_data[\"key\"] = random.PRNGKey(seed + rank)\n",
    "print('init walker energy: ', prop_data['e_estimate'])\n",
    "print('mf enegry: ', mf.e_tot)\n",
    "print(mf.e_tot - prop_data['e_estimate'])\n",
    "print('cc energy: ', mycc.e_tot)\n",
    "walker_up = prop_data['walkers'][0][0]\n",
    "walker_dn = prop_data['walkers'][1][0]\n",
    "# print(trial._calc_overlap(wave_data['mo_ta'],wave_data[\"mo_B\"]@wave_data['mo_tb'],wave_data))\n",
    "print(trial._calc_energy(wave_data['mo_ta'],wave_data[\"mo_B\"]@wave_data['mo_tb'],ham_data,wave_data))"
   ]
  },
  {
   "cell_type": "code",
   "execution_count": 32,
   "id": "05135e3b",
   "metadata": {},
   "outputs": [
    {
     "data": {
      "text/plain": [
       "[Array([[1.00000000e+00],\n",
       "        [7.60686089e-17],\n",
       "        [1.38777878e-16],\n",
       "        [1.82801028e-16]], dtype=float64),\n",
       " Array([[1.00000000e+00],\n",
       "        [4.02789862e-16],\n",
       "        [1.45395063e-09],\n",
       "        [1.96548302e-16]], dtype=float64)]"
      ]
     },
     "execution_count": 32,
     "metadata": {},
     "output_type": "execute_result"
    }
   ],
   "source": [
    "wave_data['mo_coeff']"
   ]
  },
  {
   "cell_type": "code",
   "execution_count": null,
   "id": "1e9fbd2f",
   "metadata": {},
   "outputs": [],
   "source": [
    "energy_samples = jnp.real(\n",
    "            trial.calc_energy(prop_data[\"walkers\"], ham_data, wave_data)\n",
    "        )"
   ]
  },
  {
   "cell_type": "code",
   "execution_count": 43,
   "id": "4ae643d5",
   "metadata": {},
   "outputs": [
    {
     "data": {
      "text/plain": [
       "Array([-1.08381072+0.j, -1.08381072+0.j, -1.08381072+0.j], dtype=complex128)"
      ]
     },
     "execution_count": 43,
     "metadata": {},
     "output_type": "execute_result"
    }
   ],
   "source": [
    "trial.calc_energy(prop_data[\"walkers\"], ham_data, wave_data)"
   ]
  },
  {
   "cell_type": "code",
   "execution_count": 44,
   "id": "b7403012",
   "metadata": {},
   "outputs": [
    {
     "data": {
      "text/plain": [
       "jaxlib.xla_extension.ArrayImpl"
      ]
     },
     "execution_count": 44,
     "metadata": {},
     "output_type": "execute_result"
    }
   ],
   "source": [
    "type(prop_data[\"walkers\"])"
   ]
  },
  {
   "cell_type": "code",
   "execution_count": 46,
   "id": "7cfa84a0",
   "metadata": {},
   "outputs": [
    {
     "data": {
      "text/plain": [
       "uhf(norb=4, nelec=(1, 1), n_opt_iter=30, n_batch=1)"
      ]
     },
     "execution_count": 46,
     "metadata": {},
     "output_type": "execute_result"
    }
   ],
   "source": [
    "trial"
   ]
  },
  {
   "cell_type": "code",
   "execution_count": 45,
   "id": "a2ec5731",
   "metadata": {},
   "outputs": [
    {
     "data": {
      "text/plain": [
       "Array(-1.08381072+0.j, dtype=complex128)"
      ]
     },
     "execution_count": 45,
     "metadata": {},
     "output_type": "execute_result"
    }
   ],
   "source": [
    "trial._calc_energy_restricted(prop_data[\"walkers\"][0], ham_data, wave_data)"
   ]
  },
  {
   "cell_type": "code",
   "execution_count": 60,
   "id": "da7e7883",
   "metadata": {},
   "outputs": [
    {
     "name": "stdout",
     "output_type": "stream",
     "text": [
      "-1.589947461477418\n"
     ]
    }
   ],
   "source": [
    "eris = mycc.ao2mo(mycc.mo_coeff)\n",
    "eccsd = mycc.energy(mycc.t1, (0*mycc.t2[0],0*mycc.t2[1],0*mycc.t2[2]), eris)\n",
    "print(mf.e_tot+eccsd)"
   ]
  },
  {
   "cell_type": "code",
   "execution_count": 69,
   "id": "54a583d3",
   "metadata": {},
   "outputs": [],
   "source": [
    "@partial(jit, static_argnums=0)\n",
    "def _tls_olp(\n",
    "    trial,\n",
    "    walker_up: jax.Array,\n",
    "    walker_dn: jax.Array,\n",
    "    wave_data: dict,\n",
    ") -> complex:\n",
    "    '''<exp(T1)HF|walker>'''\n",
    "\n",
    "    # walker_dn = wave_data['mo_B'].T @ walker_dn\n",
    "    olp = jnp.linalg.det(\n",
    "        wave_data[\"mo_ta\"].T.conj() @ walker_up\n",
    "    ) * jnp.linalg.det(wave_data[\"mo_tb\"].T.conj() @ walker_dn)\n",
    "\n",
    "    return olp\n",
    "\n",
    "@partial(jit, static_argnums=5)\n",
    "def _tls_exp1(x: float, h1_mod: jax.Array, walker_up: jax.Array,\n",
    "                    walker_dn: jax.Array, wave_data: dict, trial):\n",
    "    '''\n",
    "    unrestricted <ep(T1)HF|exp(x*h1_mod)|walker>/<HF|walker>\n",
    "    '''\n",
    "    walker_up_1x = walker_up + x * h1_mod.dot(walker_up)\n",
    "    walker_dn_1x = walker_dn + x * h1_mod.dot(walker_dn)\n",
    "    walker_dn_1x = wave_data['mo_B'].T @ walker_dn_1x\n",
    "    olp = _tls_olp(trial,walker_up_1x, walker_dn_1x, wave_data)\n",
    "    o0 = trial._calc_overlap(walker_up,walker_dn,wave_data)\n",
    "\n",
    "    return olp/o0\n",
    "\n",
    "@partial(jit, static_argnums=5)\n",
    "def _tls_exp2(x: float, chol_i: jax.Array, walker_up: jax.Array,\n",
    "                   walker_dn: jax.Array, wave_data: dict, trial) -> complex:\n",
    "    '''\n",
    "    <exp(T1)HF|exp(x*h2_mod)|walker>/<HF|walker>\n",
    "    '''\n",
    "\n",
    "    walker_up_2x = (\n",
    "        walker_up\n",
    "        + x * chol_i.dot(walker_up)\n",
    "        + x**2 / 2.0 * chol_i.dot(chol_i.dot(walker_up))\n",
    "    )\n",
    "    walker_dn_2x = (\n",
    "        walker_dn\n",
    "        + x * chol_i.dot(walker_dn)\n",
    "        + x**2 / 2.0 * chol_i.dot(chol_i.dot(walker_dn))\n",
    "    )\n",
    "    walker_dn_2x = wave_data['mo_B'].T @ walker_dn_2x\n",
    "    olp = _tls_olp(trial, walker_up_2x,walker_dn_2x,wave_data)\n",
    "    o0 = trial._calc_overlap(walker_up,walker_dn,wave_data)\n",
    "    \n",
    "    return olp/o0"
   ]
  },
  {
   "cell_type": "code",
   "execution_count": 70,
   "id": "12f7ae10",
   "metadata": {},
   "outputs": [],
   "source": [
    "from jax import lax\n",
    "@partial(jit, static_argnums=0)\n",
    "def _ut2_walker_olp(\n",
    "    trial, walker_up: jax.Array, walker_dn: jax.Array, wave_data: dict\n",
    ") -> complex:\n",
    "    '''<exp(T1)HF|(t1+t2)|walker> = (t_ia G_ia + t_iajb G_iajb) * <exp(T1)HF|walker>'''\n",
    "    noccA, t2AA = trial.nelec[0], wave_data[\"rot_t2AA\"]\n",
    "    noccB, t2BB = trial.nelec[1], wave_data[\"rot_t2BB\"]\n",
    "    t2AB = wave_data[\"rot_t2AB\"]\n",
    "    # convert trial_mo_dn into beta mo_basis\n",
    "    # wave_data[\"mo_B\"] = <psi_a|psi_b>\n",
    "    mo_A = wave_data['mo_ta'] #@ wave_data[\"mo_coeff\"][0]\n",
    "    mo_B = wave_data['mo_tb'] #@ wave_data[\"mo_B\"].T @ wave_data[\"mo_coeff\"][1]\n",
    "    green_a = (\n",
    "        walker_up.dot(jnp.linalg.inv(mo_A.T.conj() @ walker_up))\n",
    "    ).T\n",
    "    # convert walker_dn into beta mo_basis\n",
    "    # s.t. green_b in beta basis thus can be contracted with beta amplitude\n",
    "    walker_dn = wave_data[\"mo_B\"].T @ walker_dn\n",
    "    green_b = (\n",
    "        walker_dn.dot(jnp.linalg.inv(mo_B.T.conj() @ walker_dn))\n",
    "    ).T\n",
    "    green_a, green_b = green_a[:noccA, noccA:], green_b[:noccB, noccB:]\n",
    "    o0 = _tls_olp(trial,walker_up,walker_dn,wave_data)\n",
    "    # o1 = jnp.einsum(\"ia,ia\", t1A, green_a) + jnp.einsum(\"ia,ia\", t1B, green_b)\n",
    "    o2 = (\n",
    "        0.5 * jnp.einsum(\"iajb, ia, jb\", t2AA, green_a, green_a)\n",
    "        + 0.5 * jnp.einsum(\"iajb, ia, jb\", t2BB, green_b, green_b)\n",
    "        + jnp.einsum(\"iajb, ia, jb\", t2AB, green_a, green_b)\n",
    "    )\n",
    "    return o2 * o0\n",
    "\n",
    "@partial(jit, static_argnums=5)\n",
    "def _ut2_exp1(x: float, h1_mod: jax.Array, walker_up: jax.Array,\n",
    "                    walker_dn: jax.Array, wave_data: dict, trial):\n",
    "    '''\n",
    "    unrestricted <ep(T1)HF|T2 exp(x*h1_mod)|walker>/<HF|walker>\n",
    "    '''\n",
    "    walker_up_1x = walker_up + x * h1_mod.dot(walker_up)\n",
    "    walker_dn_1x = walker_dn + x * h1_mod.dot(walker_dn)\n",
    "    \n",
    "    olp = _ut2_walker_olp(trial,walker_up_1x, walker_dn_1x, wave_data)\n",
    "    o0 = trial._calc_overlap(walker_up,walker_dn,wave_data)\n",
    "\n",
    "    return olp/o0\n",
    "\n",
    "@partial(jit, static_argnums=5)\n",
    "def _ut2_exp2(x: float, chol_i: jax.Array, walker_up: jax.Array,\n",
    "                   walker_dn: jax.Array, wave_data: dict, trial) -> complex:\n",
    "    '''\n",
    "    t_ia <psi_i^a|exp(x*h2_mod)|walker>/<HF|walker>\n",
    "    '''\n",
    "\n",
    "    walker_up_2x = (\n",
    "        walker_up\n",
    "        + x * chol_i.dot(walker_up)\n",
    "        + x**2 / 2.0 * chol_i.dot(chol_i.dot(walker_up))\n",
    "    )\n",
    "    walker_dn_2x = (\n",
    "        walker_dn\n",
    "        + x * chol_i.dot(walker_dn)\n",
    "        + x**2 / 2.0 * chol_i.dot(chol_i.dot(walker_dn))\n",
    "    )\n",
    "    \n",
    "    olp = _ut2_walker_olp(trial, walker_up_2x,walker_dn_2x,wave_data)\n",
    "    o0 = trial._calc_overlap(walker_up,walker_dn,wave_data)\n",
    "    \n",
    "    return olp/o0\n",
    "\n",
    "@partial(jit, static_argnums=0)\n",
    "def _calc_energy_pt2(trial, walker_up, walker_dn, ham_data, wave_data):\n",
    "    '''\n",
    "    t1 = <exp(T1)HF|walker>/<HF|walker>\n",
    "    t2 = <exp(T1)HF|T1+T2|walker>/<HF|walker>\n",
    "    e0 = <exp(T1)HF|h1+h2|walker>/<HF|walker>\n",
    "    e1 = <exp(T1)HF|(T1+T2)(h1+h2)|walker>/<HF|walker>\n",
    "    '''\n",
    "\n",
    "    eps=1e-4\n",
    "\n",
    "    norb = trial.norb\n",
    "    h1_mod = ham_data['h1_mod']\n",
    "    chol = ham_data[\"chol\"].reshape(-1, norb, norb)\n",
    "\n",
    "    # e0 = <exp(T1)HF|h1+h2|walker>/<HF|walker> #\n",
    "    # one body\n",
    "    x = 0.0\n",
    "    f1 = lambda a: _tls_exp1(a,h1_mod,walker_up,walker_dn,wave_data,trial)\n",
    "    t1, d_exp1 = jvp(f1, [x], [1.0])\n",
    "\n",
    "    # two body\n",
    "    def scanned_fun(carry, c):\n",
    "        eps,walker_up,walker_dn,wave_data = carry\n",
    "        return carry, _tls_exp2(eps,c,walker_up,walker_dn,wave_data,trial)\n",
    "\n",
    "    _, exp2_p = lax.scan(scanned_fun, (eps,walker_up,walker_dn,wave_data), chol)\n",
    "    _, exp2_0 = lax.scan(scanned_fun, (0.0,walker_up,walker_dn,wave_data), chol)\n",
    "    _, exp2_m = lax.scan(scanned_fun, (-1.0 * eps,walker_up,walker_dn,wave_data), chol)\n",
    "    d2_exp2 = (exp2_p - 2.0 * exp2_0 + exp2_m) / eps / eps\n",
    "\n",
    "    e0 = (d_exp1 + jnp.sum(d2_exp2) / 2.0 )\n",
    "\n",
    "    d_exp1 = d2_exp2 = None\n",
    "    exp2_p = exp2_0 = exp2_m = None\n",
    "    \n",
    "    # e1 = <exp(T1)HF|(T1+T2)(h1+h2)|walker>/<HF|walker>\n",
    "    # one body\n",
    "    x = 0.0\n",
    "    f1 = lambda a: _ut2_exp1(a,h1_mod,walker_up,walker_dn,wave_data,trial)\n",
    "    t2, d_exp1 = jvp(f1, [x], [1.0])\n",
    "\n",
    "    # two body\n",
    "    def scanned_fun(carry, c):\n",
    "        eps,walker_up,walker_dn,wave_data = carry\n",
    "        return carry, _ut2_exp2(eps,c,walker_up,walker_dn,wave_data,trial)\n",
    "\n",
    "    _, exp2_p = lax.scan(scanned_fun, (eps,walker_up,walker_dn,wave_data), chol)\n",
    "    _, exp2_0 = lax.scan(scanned_fun, (0.0,walker_up,walker_dn,wave_data), chol)\n",
    "    _, exp2_m = lax.scan(scanned_fun, (-1.0 * eps,walker_up,walker_dn,wave_data), chol)\n",
    "    d2_exp2 = (exp2_p - 2.0 * exp2_0 + exp2_m) / eps / eps\n",
    "\n",
    "    e1 = (d_exp1 + jnp.sum(d2_exp2) / 2.0 )\n",
    "\n",
    "    return jnp.real(t1), jnp.real(t2), jnp.real(e0), jnp.real(e1)"
   ]
  },
  {
   "cell_type": "code",
   "execution_count": 57,
   "id": "6f99d4e9",
   "metadata": {},
   "outputs": [
    {
     "name": "stdout",
     "output_type": "stream",
     "text": [
      "-1.58975539667538 -1.620397631502197\n"
     ]
    }
   ],
   "source": [
    "print(mf.e_tot,mycc.e_tot)"
   ]
  },
  {
   "cell_type": "code",
   "execution_count": null,
   "id": "b4a58599",
   "metadata": {},
   "outputs": [],
   "source": [
    "# h0 + 1/t1 * e0 + 1/t1 * e1 - 1/t1**2 * t2 * e0"
   ]
  },
  {
   "cell_type": "code",
   "execution_count": 71,
   "id": "6b8f85d8",
   "metadata": {},
   "outputs": [
    {
     "name": "stdout",
     "output_type": "stream",
     "text": [
      "-0.9976266447650609 -7.612534329717163e-34 2.8332074418015942 0.030377900489296384\n",
      "-1.6203978159737895\n"
     ]
    }
   ],
   "source": [
    "t1,t2,e0,e1 = _calc_energy_pt2(trial, walker_up, walker_dn, ham_data, wave_data)\n",
    "print(t1,t2,e0,e1)\n",
    "print(h0 + 1/t1 * e0 + 1/t1 * e1 - 1/t1**2 * t2 * e0)"
   ]
  },
  {
   "cell_type": "code",
   "execution_count": null,
   "id": "4c8c7453",
   "metadata": {},
   "outputs": [],
   "source": []
  }
 ],
 "metadata": {
  "kernelspec": {
   "display_name": "lno_pyscf_afqmc",
   "language": "python",
   "name": "python3"
  },
  "language_info": {
   "codemirror_mode": {
    "name": "ipython",
    "version": 3
   },
   "file_extension": ".py",
   "mimetype": "text/x-python",
   "name": "python",
   "nbconvert_exporter": "python",
   "pygments_lexer": "ipython3",
   "version": "3.10.16"
  }
 },
 "nbformat": 4,
 "nbformat_minor": 5
}
